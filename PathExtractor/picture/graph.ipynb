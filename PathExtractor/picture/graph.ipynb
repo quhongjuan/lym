{
 "cells": [
  {
   "cell_type": "code",
   "execution_count": 1,
   "metadata": {},
   "outputs": [
    {
     "data": {
      "image/png": "[encoded data removed]",
      "text/plain": [
       "<Figure size 432x288 with 1 Axes>"
      ]
     },
     "metadata": {},
     "output_type": "display_data"
    }
   ],
   "source": [
    "import networkx as nx\n",
    "import matplotlib.pyplot as plt\n",
    "import numpy as np\n",
    "\n",
    "G = nx.DiGraph()\n",
    "G.add_nodes_from([3, 4, 5, 6, 7, 8, 9, 10, 11])\n",
    "matrix = np.array(\n",
    "    [\n",
    "        #3,4,5,6,7,8,9,10,11,12\n",
    "        [0,1,0,0,0,0,0,0,0],#\"3\"\n",
    "        [0,0,1,0,0,0,0,0,0],#\"4\"\n",
    "        [0,0,0,1,0,0,0,1,0],#\"5\"\n",
    "        [0,0,0,0,1,0,0,0,0],#\"6\"\n",
    "        [0,0,0,0,0,1,1,0,0],#\"7\"\n",
    "        [0,0,0,0,0,0,1,0,0],#\"8\"\n",
    "        [0,0,1,0,0,0,0,0,1],#\"9\"\n",
    "        [0,0,0,0,0,0,0,0,0],#\"10\"\n",
    "        [0,0,0,0,0,0,0,0,0],#\"11\"\n",
    "    ]\n",
    ")\n",
    "for i in range(len(matrix)):\n",
    "    for j in range(len(matrix)):\n",
    "        if matrix[i][j]:\n",
    "            G.add_edge(i+3, j+3)\n",
    "\n",
    "nx.draw(G, with_labels=True)\n",
    "plt.show()"
   ]
  },
  {
   "cell_type": "markdown",
   "metadata": {},
   "source": [
    "## 2 使用邻接表来表示图\n",
    "\n",
    "### 2.1练习题\n",
    "\n",
    "找到任意一条从起始点到终止点的路径\n",
    "\n",
    "找出从起始点到终止点的所有路径"
   ]
  },
  {
   "cell_type": "code",
   "execution_count": 2,
   "metadata": {},
   "outputs": [
    {
     "name": "stdout",
     "output_type": "stream",
     "text": [
      "path ['B', 'C', 'D', 'H']\n",
      "['B', 'C', 'D', 'H']\n"
     ]
    }
   ],
   "source": [
    "graph = {\n",
    "    'A':['B', 'C'],\n",
    "    'B':['C', 'D'],\n",
    "    'C':['D'],\n",
    "    'D':['k','C','G','H'],\n",
    "    'E':['F'],\n",
    "    'F':['C']\n",
    "}\n",
    "\n",
    "def find_path(graph, start, end, path=[]):\n",
    "    if start == end:\n",
    "        print(\"path\", path)\n",
    "        return True\n",
    "    if not graph.get(start):\n",
    "        path.pop()\n",
    "        return False\n",
    "    for v in graph[start]:\n",
    "        if v not in path:\n",
    "            path.append(v)\n",
    "            if find_path(graph,v,end,path):\n",
    "                return True\n",
    "    return False\n",
    "\n",
    "path = []\n",
    "if find_path(graph, 'A', 'H', path=path):\n",
    "    print(path)\n",
    "else:\n",
    "    print(1)"
   ]
  },
  {
   "cell_type": "code",
   "execution_count": 3,
   "metadata": {},
   "outputs": [
    {
     "name": "stdout",
     "output_type": "stream",
     "text": [
      "v C in path ['A', 'B', 'C', 'D']\n",
      "v D in path ['A', 'B', 'D', 'C']\n",
      "v C in path ['A', 'C', 'D']\n",
      "[['A', 'B', 'C', 'D', 'G'], ['A', 'B', 'D', 'G'], ['A', 'C', 'D', 'G']]\n"
     ]
    }
   ],
   "source": [
    "# 从图中找出从起始点到终点的所有路径\n",
    "import copy\n",
    "\n",
    "def find_path_all(curr, end, path):\n",
    "    if curr == end:\n",
    "        path_tmp = copy.deepcopy(path)\n",
    "        path_all.append(path_tmp)\n",
    "        return \n",
    "    if not graph.get(curr):\n",
    "        return\n",
    "    for v in graph[curr]:\n",
    "        if v in path:\n",
    "            print(\"v %s in path %s\" %(v, path))\n",
    "            continue\n",
    "        path.append(v)\n",
    "        find_path_all(v, end, path)\n",
    "        path.pop()\n",
    "\n",
    "path_all = []\n",
    "find_path_all('A', 'G', path=['A'])\n",
    "print(path_all)\n",
    "\n"
   ]
  },
  {
   "cell_type": "markdown",
   "metadata": {},
   "source": [
    "### 2.2 实例\n",
    "找出从开始结点到终端结点的所有路径。\n",
    "\n",
    "终端结点是指 1.叶子结点， 或 2.一些特殊条件的点(比如return结点)\n",
    "\n",
    "比如： 找出从3为开始结点的所有路径。遇到环停止，遇到return结点停止（此处return结点是8,11），遇到叶子结点停止\n",
    "\n",
    "<img src=\"2controlGraphPicture.jpg\" alt=\"控制流图示例\" align=\"bottom\" />"
   ]
  },
  {
   "cell_type": "code",
   "execution_count": 3,
   "metadata": {},
   "outputs": [
    {
     "name": "stdout",
     "output_type": "stream",
     "text": [
      "v 5 in path ['3', '4', '5', '6', '7', '9']\n",
      "[['3', '4', '5', '6', '7', '8'], ['3', '4', '5', '6', '7', '9'], ['3', '4', '5', '6', '7', '9', '10'], ['3', '4', '5', '11']]\n"
     ]
    }
   ],
   "source": [
    "import copy\n",
    "graph = {\n",
    "    '3':['4'],\n",
    "    '4':['5'],\n",
    "    '5':['6', '11'],\n",
    "    '6':['7'],\n",
    "    '7':['8','9'],\n",
    "    '8':['9'],\n",
    "    '9':['5','10']\n",
    "}\n",
    "\n",
    "def find_path_all(start, path):\n",
    "    # 如果是结束结点，结束遍历，并把当前路径添加到路径集合中\n",
    "    if start == '8' or start == '11':\n",
    "        path_tmp = copy.deepcopy(path)\n",
    "        path_all.append(path_tmp)\n",
    "        return \n",
    "    # 如果是叶子结点，结束遍历，把当前路径添加到路径集合中\n",
    "    if not graph.get(start):\n",
    "        path_tmp = copy.deepcopy(path)\n",
    "        path_all.append(path_tmp)\n",
    "        return\n",
    "    # 其他情况，递归调用\n",
    "    for v in graph[start]:\n",
    "        # 如果遍历到已访问节点，结束遍历，把当前路径添加到路径集合中\n",
    "        if v in path:\n",
    "            print(\"v %s in path %s\" %(v, path))\n",
    "            path_temp = copy.deepcopy(path)\n",
    "            path_all.append(path_temp)\n",
    "            continue\n",
    "        path.append(v)\n",
    "        find_path_all(v, path)\n",
    "        path.pop()\n",
    "\n",
    "path_all = []\n",
    "find_path_all('3',path=['3'])\n",
    "print(path_all)"
   ]
  }
 ],
 "metadata": {
  "interpreter": {
   "hash": "5179d32cf6ec497baf3f8a3ef987cc77c5d2dc691fdde20a56316522f61a7323"
  },
  "kernelspec": {
   "display_name": "Python 3.8.3 ('base')",
   "language": "python",
   "name": "python3"
  },
  "language_info": {
   "codemirror_mode": {
    "name": "ipython",
    "version": 3
   },
   "file_extension": ".py",
   "mimetype": "text/x-python",
   "name": "python",
   "nbconvert_exporter": "python",
   "pygments_lexer": "ipython3",
   "version": "3.8.3"
  },
  "orig_nbformat": 4
 },
 "nbformat": 4,
 "nbformat_minor": 2
}
